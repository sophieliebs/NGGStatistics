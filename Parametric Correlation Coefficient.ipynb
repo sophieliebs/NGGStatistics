{
 "cells": [
  {
   "cell_type": "code",
   "execution_count": 1,
   "metadata": {},
   "outputs": [],
   "source": [
    "import numpy as np\n",
    "import scipy.stats as st\n",
    "import matplotlib.pyplot as plt"
   ]
  },
  {
   "cell_type": "markdown",
   "metadata": {},
   "source": [
    "1. Plot X vs Y. Do they look related?"
   ]
  },
  {
   "cell_type": "code",
   "execution_count": 2,
   "metadata": {},
   "outputs": [
    {
     "data": {
      "text/plain": [
       "Text(0, 0.5, 'Wing Length (cm)')"
      ]
     },
     "execution_count": 2,
     "metadata": {},
     "output_type": "execute_result"
    },
    {
     "data": {
      "image/png": "[encoded data removed]",
      "text/plain": [
       "<Figure size 432x288 with 1 Axes>"
      ]
     },
     "metadata": {
      "needs_background": "light"
     },
     "output_type": "display_data"
    }
   ],
   "source": [
    "# Always run this cell to load the data\n",
    "wing_length = [10.4, 10.8, 11.1, 10.2, 10.3, 10.2, 10.7, 10.5, 10.8, 11.2, 10.6, 11.4]\n",
    "tail_length = [7.4, 7.6, 7.9, 7.2 ,7.4, 7.1, 7.4, 7.2, 7.8, 7.7, 7.8, 8.3]\n",
    "\n",
    "# Plot the data\n",
    "plt.plot(tail_length, wing_length, 'ko')\n",
    "plt.xlabel('Tail Length (cm)')\n",
    "plt.ylabel('Wing Length (cm)')"
   ]
  },
  {
   "cell_type": "markdown",
   "metadata": {},
   "source": [
    "2. Calculate  𝑟𝑋,𝑌  and  𝑟𝑌,𝑋 , first using the equations above and then using either the Python numpy funciton corrcoef or Matlab's built-in corrcoef. Did you get the same answers?"
   ]
  },
  {
   "cell_type": "code",
   "execution_count": 19,
   "metadata": {},
   "outputs": [
    {
     "name": "stdout",
     "output_type": "stream",
     "text": [
      "Manual Calculation:\n",
      "rXY = 0.8703545613058227\n",
      "rYX = 0.8703545613058227\n",
      "\n",
      "Built-in Functions:\n",
      "rXY = 0.8703545613058227\n",
      "rYX = 0.8703545613058227\n"
     ]
    }
   ],
   "source": [
    "### Calculate r(X,Y) and r(Y,X) using equations above\n",
    "\n",
    "# Calculate sample means of each group\n",
    "x_bar = np.mean(tail_length)\n",
    "y_bar = np.mean(wing_length)\n",
    "\n",
    "# r = [sum(x_i-x_bar)(y_i-y_bar)] / [sum(x_i-x_bar)^2*sum(y_i-y_bar)]^2\n",
    "\n",
    "X = np.asarray(tail_length) # Convert lists of data to np arrays\n",
    "Y = np.asarray(wing_length)\n",
    "x_bar_array = np.full(X.shape,x_bar)\n",
    "y_bar_array = np.full(Y.shape,y_bar)\n",
    "\n",
    "r_XY_num = np.sum((X-x_bar_array)*(Y-y_bar_array))\n",
    "r_XY_den = (np.sum(np.square(X-x_bar_array)))**0.5*(np.sum(np.square(Y-y_bar_array)))**0.5\n",
    "r_XY = r_XY_num/r_XY_den\n",
    "\n",
    "print('Manual Calculation:')\n",
    "print('rXY =', r_XY)\n",
    "print('rYX =', r_XY)\n",
    "print()\n",
    "\n",
    "### Calculate r(X,Y) and r(Y,X) using built-in fxns\n",
    "\n",
    "r_XY_np = np.corrcoef(X,Y)\n",
    "r_YX_np = np.corrcoef(Y,X)\n",
    "\n",
    "print('Built-in Functions:')\n",
    "print('rXY =', r_XY_np[1,0])\n",
    "print('rYX =', r_YX_np[1,0])"
   ]
  },
  {
   "cell_type": "markdown",
   "metadata": {},
   "source": [
    "3. What is the standard error of  𝑟𝑋,𝑌 ? The 95% confidence intervals computed from the standard error?"
   ]
  },
  {
   "cell_type": "code",
   "execution_count": 24,
   "metadata": {},
   "outputs": [
    {
     "name": "stdout",
     "output_type": "stream",
     "text": [
      "s_r = 0.15571863652567375\n",
      "(0.681218655407116, 1.9878613117671522)\n",
      "(0.1353352832366127, 0.13533528323661267)\n"
     ]
    }
   ],
   "source": [
    "### Standard error of rXY\n",
    "\n",
    "# s_r = sqrt((1-r^2)/(n-2))\n",
    "\n",
    "s_r = ((1-r_XY**2)/(X.shape[0]-2))**0.5\n",
    "print('s_r =', s_r)\n",
    "\n",
    "### 95% CIs\n",
    "\n",
    "alpha = 0.05\n",
    "\n",
    "z = 0.5*np.log((1+r_XY)/(1-r_XY))\n",
    "s_z = (1/(X.shape[0]-3))**0.5\n",
    "z_CIs = (z+st.norm.ppf(alpha/2)*s_z,z-st.norm.ppf(alpha/2)*s_z)\n",
    "r_CIs = (( (np.exp(2*z_CIs[0]-1))/(np.exp(2*z_CIs[0]+1)) ) , ((np.exp(2*z_CIs[1]-1))/(np.exp(2*z_CIs[1]+1))))\n",
    "print(r_CIs)\n",
    "          "
   ]
  },
  {
   "cell_type": "markdown",
   "metadata": {},
   "source": [
    "4. Should the value of  𝑟𝑋,𝑌  be considered significant at the p<0.05 level, given a two-tailed test (i.e., we reject if the test statistic is too large on either tail of the null distribution) for  𝐻0:𝑟𝑋,𝑌=0 ?"
   ]
  },
  {
   "cell_type": "code",
   "execution_count": 29,
   "metadata": {},
   "outputs": [
    {
     "name": "stdout",
     "output_type": "stream",
     "text": [
      "p =  0.00023110594312059085\n"
     ]
    }
   ],
   "source": [
    "# Calculate t-value for r on the null distribution\n",
    "\n",
    "t = r_XY/s_r\n",
    "p = (1-st.t.cdf(t,(X.shape[0]-2)))*2\n",
    "\n",
    "print('p = ', p)"
   ]
  },
  {
   "cell_type": "markdown",
   "metadata": {},
   "source": [
    "5. Yale does the exact same study and finds that his correlation value is 0.75. Is this the same as yours? That is, evaluate  𝐻0:𝑟=0.75 ."
   ]
  },
  {
   "cell_type": "code",
   "execution_count": 31,
   "metadata": {},
   "outputs": [
    {
     "name": "stdout",
     "output_type": "stream",
     "text": [
      "p =  0.2780303018608832\n"
     ]
    }
   ],
   "source": [
    "H_0 = 0.75\n",
    "z_yale = 0.5*np.log((1+H_0)/(1-H_0))\n",
    "\n",
    "lam = (z-z_yale)/(1/(X.shape[0]-3)**0.5)\n",
    "\n",
    "p_yale = 2*(1-st.norm.cdf(lam))\n",
    "\n",
    "print('p = ', p_yale)"
   ]
  },
  {
   "cell_type": "markdown",
   "metadata": {},
   "source": [
    "6. Finally, calculate the statistical power and sample size needed to reject  𝐻0:𝑟=0𝑤ℎ𝑒𝑛𝑟≥0.5 ."
   ]
  },
  {
   "cell_type": "code",
   "execution_count": 32,
   "metadata": {},
   "outputs": [
    {
     "name": "stdout",
     "output_type": "stream",
     "text": [
      "0.6538506681771875\n"
     ]
    }
   ],
   "source": [
    "r_6 = 0.5\n",
    "z_6 = 0.5*np.log((1+r_6)/(1-r_6))\n",
    "lam_6 = (z-z_6)/(1/(X.shape[0]-3)**0.5)\n",
    "\n",
    "alpha_6 = 0.05\n",
    "z_val = st.norm.ppf(1-alpha_6/2)\n",
    "\n",
    "power_6 = 1-st.norm.cdf(z_val-lam_6)\n",
    "\n",
    "print('Power =',power_6)"
   ]
  },
  {
   "cell_type": "code",
   "execution_count": null,
   "metadata": {},
   "outputs": [],
   "source": []
  }
 ],
 "metadata": {
  "kernelspec": {
   "display_name": "Python 3",
   "language": "python",
   "name": "python3"
  },
  "language_info": {
   "codemirror_mode": {
    "name": "ipython",
    "version": 3
   },
   "file_extension": ".py",
   "mimetype": "text/x-python",
   "name": "python",
   "nbconvert_exporter": "python",
   "pygments_lexer": "ipython3",
   "version": "3.7.6"
  }
 },
 "nbformat": 4,
 "nbformat_minor": 4
}
