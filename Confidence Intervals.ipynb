{
 "cells": [
  {
   "cell_type": "markdown",
   "metadata": {},
   "source": [
    "# Confidence Intervals\n",
    "\n",
    "Compute confidence/credible intervals based on the four methods above for simulated data sampled from a population that is Gaussian distributed with mean $\\mu$=10 and standard deviation $\\sigma$=2, for *n*=5, 10, 20, 40, 80, 160, 1000 at a 95% confidence level."
   ]
  },
  {
   "cell_type": "code",
   "execution_count": 1,
   "metadata": {},
   "outputs": [],
   "source": [
    "import scipy.stats as st\n",
    "import numpy as np"
   ]
  },
  {
   "cell_type": "markdown",
   "metadata": {},
   "source": [
    "1. The simple, analytic approach with large n and/or known standard deviation.\n",
    "\n",
    "We assess the variability of the sampling distribution of the mean based on its standard deviation. This value is known as the standard error of the mean (SEM), which can be computed from the standard deviation (s) of the sampled distribution as:\n",
    "\n",
    "𝑆𝐸𝑀=𝑠𝑛√=Σ(𝑥−𝑥¯)2√𝑛\n",
    "\n",
    "The confidence interval for an arbitrary confidence level can be computed by simply multiplying the SEM by the z-score, which represents the number of standard deviations that a value is from the mean of a distribution. It can be determined using a z-score calculator, which relates the z-score to the area under the curve that is to the left of that z-score (i.e., the total probability that the value is less than that z-score).\n",
    "\n",
    "For a standard, two-sided confidence interval, the appropriate z-score is determined based on one-half of one minus the confidence level, because you want to find the area between two symmetric tails.\n",
    "\n",
    "You can get the z-score corresponding to a particular area under the curve to the left of that z-score in Matlab using norminv and in Python using the ppf method of Scipy's norm."
   ]
  },
  {
   "cell_type": "code",
   "execution_count": 15,
   "metadata": {},
   "outputs": [
    {
     "name": "stdout",
     "output_type": "stream",
     "text": [
      "Method 1:\n",
      "\n",
      "n = 5: 10.451978872426587\n",
      "CI: [9.277138851922667, 11.626818892930507]\n",
      "\n",
      "n = 10: 10.605154261373109\n",
      "CI: [9.371477401894936, 11.838831120851282]\n",
      "\n",
      "n = 20: 10.02212173164627\n",
      "CI: [8.953523704017774, 11.090719759274764]\n",
      "\n",
      "n = 40: 10.242241377862467\n",
      "CI: [9.559464515703487, 10.925018240021446]\n",
      "\n",
      "n = 80: 9.937589253773563\n",
      "CI: [9.560627083973978, 10.314551423573148]\n",
      "\n",
      "n = 160: 10.141199179711588\n",
      "CI: [9.824339271122993, 10.458059088300184]\n",
      "\n",
      "n = 1000: 9.964680876131784\n",
      "CI: [9.842750735520635, 10.086611016742932]\n",
      "\n"
     ]
    }
   ],
   "source": [
    "# Create a list of values of n to draw from for each method\n",
    "ns = [5,10,20,40,80,160,1000]\n",
    "\n",
    "# Create a Gaussian distribution to draw from\n",
    "mu = 10\n",
    "sigma = 2\n",
    "alpha = 0.95\n",
    "num = 1000 #number of bootstraps\n",
    "\n",
    "print('Method 1:')\n",
    "print()\n",
    "\n",
    "for i in ns:\n",
    "    # Draw n samples from a random distribution\n",
    "    samples = np.random.normal(mu,sigma,i)\n",
    "    print('n = '+str(i)+':',np.mean(samples))\n",
    "    sem = st.sem(samples)\n",
    "    z = -st.norm.ppf(0.5*(1-alpha))\n",
    "    print('CI:',[np.mean(samples)-(sem*z),np.mean(samples)+(sem*z)])\n",
    "    print()"
   ]
  },
  {
   "cell_type": "markdown",
   "metadata": {},
   "source": [
    "2. The simple, analytic approach with small n and unknown population standard deviation\n",
    "\n",
    "With a small number of samples, the sample distribution of the mean value of a normally distributed random variable follows a Student's t-distribution (it has heavier tails than a normal distribution, which implies that there are more extreme values). Here computing confidence intervals is the same as above, but instead of using a z-score calculator (which assumes a normal distribution), you need to use a t-distribution calculator."
   ]
  },
  {
   "cell_type": "code",
   "execution_count": 20,
   "metadata": {},
   "outputs": [
    {
     "name": "stdout",
     "output_type": "stream",
     "text": [
      "Method 2:\n",
      "\n",
      "n = 5: 9.644133051211076\n",
      "CI: [7.414850905633903, 11.87341519678825]\n",
      "\n",
      "n = 10: 10.146457473638721\n",
      "CI: [8.631045437806396, 11.661869509471046]\n",
      "\n",
      "n = 20: 10.12069454152333\n",
      "CI: [9.09346462441736, 11.1479244586293]\n",
      "\n",
      "n = 40: 9.722808821327902\n",
      "CI: [9.17135507438259, 10.274262568273215]\n",
      "\n",
      "n = 80: 10.114633788311886\n",
      "CI: [9.696799023181477, 10.532468553442296]\n",
      "\n",
      "n = 160: 9.94802426809236\n",
      "CI: [9.646906277361873, 10.249142258822845]\n",
      "\n",
      "n = 1000: 10.038857070506662\n",
      "CI: [9.91747454735816, 10.160239593655165]\n",
      "\n"
     ]
    }
   ],
   "source": [
    "print('Method 2:')\n",
    "print()\n",
    "\n",
    "for i in ns:\n",
    "    # Draw n samples from a random distribution\n",
    "    samples = np.random.normal(mu,sigma,i)\n",
    "    print('n = '+str(i)+':',np.mean(samples))\n",
    "    sem = st.sem(samples)\n",
    "    t = -st.t.ppf(0.5*(1-alpha),i-1) # n - 1 dof\n",
    "    print('CI:',[np.mean(samples)-(sem*t),np.mean(samples)+(sem*t)])\n",
    "    print()"
   ]
  },
  {
   "cell_type": "markdown",
   "metadata": {},
   "source": [
    "3. Bootstrapped confidence intervals\n",
    "\n",
    "Bootstrapping is based on the following logic (taken from this nice description):\n",
    "\n",
    "𝑥1,𝑥2,...,𝑥𝑛 is a data sample drawn from a distribution 𝐹.\n",
    "𝜇 is a statistic computed from the sample.\n",
    "𝐹∗ is the empirical distribution of the data (the resampling distribution).\n",
    "𝑥∗1,𝑥∗2,...,𝑥∗𝑛 is a resample of the data of the same size as the original sample.\n",
    "𝜇∗ is the statistic computed from the resample.\n",
    "The idea is that you now have a distribution 𝐹∗ that can be used as a surrogate for 𝐹; that is, confidence intervals on 𝜇 are computed as confidence intervals on 𝜇∗."
   ]
  },
  {
   "cell_type": "code",
   "execution_count": 35,
   "metadata": {},
   "outputs": [
    {
     "name": "stdout",
     "output_type": "stream",
     "text": [
      "Method 3:\n",
      "\n",
      "n =  5\n",
      "mu =  9.110937651440079\n",
      "CI: [10.006647037179498, 10.006647037179498]\n",
      "\n",
      "n =  10\n",
      "mu =  10.566606849637495\n",
      "CI: [10.569746087672357, 10.569746087672357]\n",
      "\n",
      "n =  20\n",
      "mu =  10.034726555705658\n",
      "CI: [10.166328248255226, 10.166328248255226]\n",
      "\n",
      "n =  40\n",
      "mu =  10.47443095693291\n",
      "CI: [10.31984505512321, 10.31984505512321]\n",
      "\n",
      "n =  80\n",
      "mu =  10.035855987643773\n",
      "CI: [10.03190260684436, 10.03190260684436]\n",
      "\n",
      "n =  160\n",
      "mu =  10.096611323976813\n",
      "CI: [10.081305172932847, 10.081305172932847]\n",
      "\n",
      "n =  1000\n",
      "mu =  9.954515902421473\n",
      "CI: [9.932829442856397, 9.932829442856397]\n",
      "\n"
     ]
    }
   ],
   "source": [
    "print('Method 3:')\n",
    "print()\n",
    "\n",
    "for i in ns:\n",
    "    # Create distribution F to draw from\n",
    "    F = np.random.normal(mu,sigma,i)\n",
    "    print('n = ',i)\n",
    "    print('mu = ',np.mean(F))\n",
    "    samples = np.random.choice(F,i)\n",
    "    mean = np.mean(samples)\n",
    "    print('CI:',[np.percentile(mean,100*((1-alpha)/2)),np.percentile(mean,100*(alpha+(1-alpha)/2))])\n",
    "    print()"
   ]
  },
  {
   "cell_type": "code",
   "execution_count": null,
   "metadata": {},
   "outputs": [],
   "source": []
  },
  {
   "cell_type": "code",
   "execution_count": null,
   "metadata": {},
   "outputs": [],
   "source": []
  }
 ],
 "metadata": {
  "kernelspec": {
   "display_name": "Python 3",
   "language": "python",
   "name": "python3"
  },
  "language_info": {
   "codemirror_mode": {
    "name": "ipython",
    "version": 3
   },
   "file_extension": ".py",
   "mimetype": "text/x-python",
   "name": "python",
   "nbconvert_exporter": "python",
   "pygments_lexer": "ipython3",
   "version": "3.7.6"
  }
 },
 "nbformat": 4,
 "nbformat_minor": 4
}
